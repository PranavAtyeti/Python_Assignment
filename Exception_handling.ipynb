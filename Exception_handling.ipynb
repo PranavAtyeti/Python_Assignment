{
  "nbformat": 4,
  "nbformat_minor": 0,
  "metadata": {
    "colab": {
      "provenance": [],
      "authorship_tag": "ABX9TyN4WfV4BlJFw2qIgCCF0RyW",
      "include_colab_link": true
    },
    "kernelspec": {
      "name": "python3",
      "display_name": "Python 3"
    },
    "language_info": {
      "name": "python"
    }
  },
  "cells": [
    {
      "cell_type": "markdown",
      "metadata": {
        "id": "view-in-github",
        "colab_type": "text"
      },
      "source": [
        "<a href=\"https://colab.research.google.com/github/PranavAtyeti/Python_Assignment/blob/Python_Tasks/Exception_handling.ipynb\" target=\"_parent\"><img src=\"https://colab.research.google.com/assets/colab-badge.svg\" alt=\"Open In Colab\"/></a>"
      ]
    },
    {
      "cell_type": "code",
      "execution_count": 1,
      "metadata": {
        "colab": {
          "base_uri": "https://localhost:8080/"
        },
        "id": "jjaoDuQuLN7x",
        "outputId": "bfa6b926-c5a7-40fd-e68e-f7ae73353dab"
      },
      "outputs": [
        {
          "output_type": "stream",
          "name": "stdout",
          "text": [
            "5.0\n",
            "Division by zero is not allowed.\n",
            "Error: unsupported operand type(s) for /: 'int' and 'str'\n"
          ]
        }
      ],
      "source": [
        "class Division:\n",
        "    def __init__(self, num1, num2):\n",
        "        self.num1 = num1\n",
        "        self.num2 = num2\n",
        "\n",
        "    def division(self):\n",
        "        try:\n",
        "            return self.num1 / self.num2\n",
        "        except ZeroDivisionError:\n",
        "            return \"Division by zero is not allowed.\"\n",
        "        except Exception as e:\n",
        "            return f\"Error: {e}\"\n",
        "\n",
        "if __name__ == \"__main__\":\n",
        "    calculator = Division(10, 2)\n",
        "    print(calculator.division())\n",
        "\n",
        "    calculator = Division(10, 0)\n",
        "    print(calculator.division())\n",
        "\n",
        "    calculator = Division(10, 'a')\n",
        "    print(calculator.division())\n"
      ]
    },
    {
      "cell_type": "code",
      "source": [],
      "metadata": {
        "id": "QqbJ4vmnLO84"
      },
      "execution_count": null,
      "outputs": []
    }
  ]
}
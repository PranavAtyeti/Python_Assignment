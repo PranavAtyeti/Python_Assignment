{
  "nbformat": 4,
  "nbformat_minor": 0,
  "metadata": {
    "colab": {
      "provenance": [],
      "authorship_tag": "ABX9TyOPdir7TyZS/QkJTn4Rq092",
      "include_colab_link": true
    },
    "kernelspec": {
      "name": "python3",
      "display_name": "Python 3"
    },
    "language_info": {
      "name": "python"
    }
  },
  "cells": [
    {
      "cell_type": "markdown",
      "metadata": {
        "id": "view-in-github",
        "colab_type": "text"
      },
      "source": [
        "<a href=\"https://colab.research.google.com/github/PranavAtyeti/Python_Assignment/blob/Python_Tasks/Args_Kwargs.ipynb\" target=\"_parent\"><img src=\"https://colab.research.google.com/assets/colab-badge.svg\" alt=\"Open In Colab\"/></a>"
      ]
    },
    {
      "cell_type": "code",
      "execution_count": 10,
      "metadata": {
        "id": "OWC6Ew362P_8"
      },
      "outputs": [],
      "source": [
        "# Args-Kwargs Assignment\n",
        "\n",
        "def calc_bill(*item,**deduction):\n",
        "  total_bill=0\n",
        "  for item, price, quantity in Items:\n",
        "    cost = price * quantity\n",
        "    total_bill += cost\n",
        "    print(f\"{item}: ${price} x {quantity} = ${cost}\")\n",
        "\n",
        "  print(f\"Subtotal = {total_bill}\")\n",
        "\n",
        "  for i,j in deduction.items():\n",
        "    if(i==\"discount\"):\n",
        "      print(f\"You got {j}% Discount!\")\n",
        "      total_bill -= total_bill * (j/100)\n",
        "\n",
        "    if(i==\"promo_code\"):\n",
        "      print(\"Promo Code Applied! $\",j)\n",
        "      total_bill += j\n",
        "\n",
        "    if(i==\"delivery_charge\"):\n",
        "      if(total_bill <=500):\n",
        "        total_bill += j\n",
        "        print(\"Bill = \",total_bill)\n",
        "      else:\n",
        "        print(\"You Got Free Delivery!\")\n",
        "  print(\"Bill = \",total_bill)"
      ]
    },
    {
      "cell_type": "code",
      "source": [
        "Items = [(\"Laptop\", 1000, 2), (\"Mouse\", 20, 2), (\"Keyboard\", 50, 1)]\n",
        "\n",
        "calc_bill(Items,discount=10,promo_code=-10,delivery_charge=50)"
      ],
      "metadata": {
        "colab": {
          "base_uri": "https://localhost:8080/"
        },
        "id": "ECwL0fkd2idS",
        "outputId": "b8c0570a-9b4e-46da-a216-4370c9134e0a"
      },
      "execution_count": 11,
      "outputs": [
        {
          "output_type": "stream",
          "name": "stdout",
          "text": [
            "Laptop: $1000 x 2 = $2000\n",
            "Mouse: $20 x 2 = $40\n",
            "Keyboard: $50 x 1 = $50\n",
            "Subtotal = 2090\n",
            "You got 10% Discount!\n",
            "Promo Code Applied! $ -10\n",
            "You Got Free Delivery!\n",
            "Bill =  1871.0\n"
          ]
        }
      ]
    },
    {
      "cell_type": "code",
      "source": [],
      "metadata": {
        "id": "1AAs9s1q2kO1"
      },
      "execution_count": null,
      "outputs": []
    }
  ]
}
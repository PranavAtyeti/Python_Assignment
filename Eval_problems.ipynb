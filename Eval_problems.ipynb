{
  "nbformat": 4,
  "nbformat_minor": 0,
  "metadata": {
    "colab": {
      "provenance": [],
      "authorship_tag": "ABX9TyOlsDd6NoD6EDdMakQXh8pZ",
      "include_colab_link": true
    },
    "kernelspec": {
      "name": "python3",
      "display_name": "Python 3"
    },
    "language_info": {
      "name": "python"
    }
  },
  "cells": [
    {
      "cell_type": "markdown",
      "metadata": {
        "id": "view-in-github",
        "colab_type": "text"
      },
      "source": [
        "<a href=\"https://colab.research.google.com/github/PranavAtyeti/Python_Assignment/blob/Python_Tasks/Eval_problems.ipynb\" target=\"_parent\"><img src=\"https://colab.research.google.com/assets/colab-badge.svg\" alt=\"Open In Colab\"/></a>"
      ]
    },
    {
      "cell_type": "code",
      "execution_count": 2,
      "metadata": {
        "colab": {
          "base_uri": "https://localhost:8080/"
        },
        "id": "0_M5P0byPuiV",
        "outputId": "1348c4e0-fb60-4a79-8d16-338e195ecb65"
      },
      "outputs": [
        {
          "output_type": "stream",
          "name": "stdout",
          "text": [
            "Enter a dictionary: {\"a\": 4, \"b\": 2, \"c\": 3}\n",
            "Enter an expression: a + b * c\n",
            "Result: 10\n"
          ]
        }
      ],
      "source": [
        "user_input = input(\"Enter a dictionary: \")\n",
        "user_input = eval(user_input)\n",
        "expr = input(\"Enter an expression: \")\n",
        "result = eval(expr,user_input)\n",
        "print(\"Result:\", result)"
      ]
    },
    {
      "cell_type": "code",
      "source": [
        "expression = \"a + b * c\"\n",
        "variables = {\"a\": 4, \"b\": 2, \"c\": 3}\n",
        "output= 10\n",
        "result = eval(expression,variables)\n",
        "print(\"Result:\", result)"
      ],
      "metadata": {
        "colab": {
          "base_uri": "https://localhost:8080/"
        },
        "id": "Kcszla06PybI",
        "outputId": "4581c6da-a1f1-45a2-b21f-547ed4fa4898"
      },
      "execution_count": 4,
      "outputs": [
        {
          "output_type": "stream",
          "name": "stdout",
          "text": [
            "Result: 10\n"
          ]
        }
      ]
    },
    {
      "cell_type": "code",
      "source": [
        "def evaluate_ex(json,expression):\n",
        "    inventory = eval(json)\n",
        "\n",
        "    filtered_items = {item: quantity for item, quantity in inventory.items() if quantity > threshold}\n",
        "\n",
        "    return filtered_items\n",
        "\n",
        "json = '{\"item1\": 50,\"item2\": 30,\"item3\": 100}'\n",
        "threshold = 40\n",
        "\n",
        "output = evaluate_ex(json,threshold)\n",
        "print(output)"
      ],
      "metadata": {
        "colab": {
          "base_uri": "https://localhost:8080/"
        },
        "id": "_E6NuAXxbt3h",
        "outputId": "385bbe20-9e1f-4b3f-88c3-24d1eb02c30f"
      },
      "execution_count": 19,
      "outputs": [
        {
          "output_type": "stream",
          "name": "stdout",
          "text": [
            "{'item1': 50, 'item3': 100}\n"
          ]
        }
      ]
    },
    {
      "cell_type": "code",
      "source": [
        "3) You are given a list of dictionaries where each dictionary represents a product with its name and price. Write a program that:\n",
        "\n",
        "Creates a lambda function to apply a discount of 10% to the price of each product.\n",
        "Use eval() to evaluate an expression that applies this lambda function to the product list.\n",
        "Output the list of products with the updated prices after applying the discount.\n",
        "Example Input:\n",
        "\n",
        "json\n",
        "\n",
        "[\n",
        "    {\"name\": \"apple\", \"price\": 30},\n",
        "    {\"name\": \"banana\", \"price\": 20},\n",
        "    {\"name\": \"cherry\", \"price\": 50}\n",
        "]\n",
        "Expression: \"list(map(lambda x: {'name': x['name'], 'price': round(x['price'] * 0.9, 2)}, products))\"\n",
        "\n",
        "Expected Output:\n",
        "\n",
        "json\n",
        "[\n",
        "    {\"name\": \"apple\", \"price\": 27.0},\n",
        "    {\"name\": \"banana\", \"price\": 18.0},\n",
        "    {\"name\": \"cherry\", \"price\": 45.0}\n",
        "]\n"
      ],
      "metadata": {
        "id": "OR-pUhRgdFZ5"
      },
      "execution_count": null,
      "outputs": []
    },
    {
      "cell_type": "code",
      "source": [
        "def eval_discount(json_string, expression):\n",
        "    products = eval(json_string)\n",
        "    return eval(expression)\n",
        "\n",
        "\n",
        "json_string = '''\n",
        "[\n",
        "    {\"name\": \"apple\", \"price\": 30},\n",
        "    {\"name\": \"banana\", \"price\": 20},\n",
        "    {\"name\": \"cherry\", \"price\": 50}\n",
        "]\n",
        "'''\n",
        "expression = \"list(map(lambda x: {'name': x['name'], 'price': round(x['price'] * 0.9, 2)}, products))\"\n",
        "\n",
        "output = eval_discount(json_string, expression)\n",
        "print(output)"
      ],
      "metadata": {
        "colab": {
          "base_uri": "https://localhost:8080/"
        },
        "id": "S943XyKZfPGK",
        "outputId": "60291ecb-fe04-4f5a-8ce9-b29ac260e597"
      },
      "execution_count": 25,
      "outputs": [
        {
          "output_type": "stream",
          "name": "stdout",
          "text": [
            "[{'name': 'apple', 'price': 27.0}, {'name': 'banana', 'price': 18.0}, {'name': 'cherry', 'price': 45.0}]\n"
          ]
        }
      ]
    },
    {
      "cell_type": "code",
      "source": [
        "class Car:\n",
        "    def start_engine(self):\n",
        "        print(\"Engine started!\")\n",
        "\n",
        "# Before patching\n",
        "car = Car()\n",
        "car.start_engine()\n",
        "# Output: Engine started!\n",
        "\n",
        "def new_start_engine(self):\n",
        "    print(\"Engine started with a roar!\")\n",
        "\n",
        "# Monkey patch the start_engine method\n",
        "Car.start_engine = new_start_engine\n",
        "\n",
        "# After patching\n",
        "car.start_engine()\n",
        "# Output: Engine started with a roar!"
      ],
      "metadata": {
        "colab": {
          "base_uri": "https://localhost:8080/"
        },
        "id": "ZTk4tO0ogcIY",
        "outputId": "7b5a9c30-05b4-4d96-c66f-7daa91cef424"
      },
      "execution_count": 27,
      "outputs": [
        {
          "output_type": "stream",
          "name": "stdout",
          "text": [
            "Engine started!\n",
            "Engine started with a roar!\n"
          ]
        }
      ]
    },
    {
      "cell_type": "code",
      "source": [],
      "metadata": {
        "id": "uvSAEsb7rLjn"
      },
      "execution_count": null,
      "outputs": []
    }
  ]
}
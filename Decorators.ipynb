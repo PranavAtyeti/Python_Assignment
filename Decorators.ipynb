{
  "nbformat": 4,
  "nbformat_minor": 0,
  "metadata": {
    "colab": {
      "provenance": [],
      "authorship_tag": "ABX9TyOLlU7L0rDDOOevfXWaearZ",
      "include_colab_link": true
    },
    "kernelspec": {
      "name": "python3",
      "display_name": "Python 3"
    },
    "language_info": {
      "name": "python"
    }
  },
  "cells": [
    {
      "cell_type": "markdown",
      "metadata": {
        "id": "view-in-github",
        "colab_type": "text"
      },
      "source": [
        "<a href=\"https://colab.research.google.com/github/PranavAtyeti/Python_Assignment/blob/Python_Tasks/Decorators.ipynb\" target=\"_parent\"><img src=\"https://colab.research.google.com/assets/colab-badge.svg\" alt=\"Open In Colab\"/></a>"
      ]
    },
    {
      "cell_type": "markdown",
      "source": [
        "1. Explain how decorators and closures are related. Can a decorator be implemented without using closures? Why or why not?\n",
        "\n",
        "Decorators - They are used to extend the functionality of a function in python without modifying the core function.A decorator is a function that takes another function as an argument, wraps it in a function nested inside of it, and returns the nested function.\n",
        "\n",
        "Closure - A closure in Python occurs when a nested function captures the local variables from its enclosing scope. This allows the nested function to access these variables even after the outer function has finished executing.\n",
        "\n",
        "Decorators rely on closures to wrap and extend the behavior of functions. Decorators use closures to capture the original function and add additional functionality. Without closures we don't have control over calling a function."
      ],
      "metadata": {
        "id": "Ay646z6Lb_Xg"
      }
    },
    {
      "cell_type": "markdown",
      "source": [
        "2. How do you create a parameterized decorator? Write a decorator that takes an argument specifying how many times to retry a function upon failure.\n"
      ],
      "metadata": {
        "id": "3Ol2Zg3yb_a4"
      }
    },
    {
      "cell_type": "code",
      "source": [
        "def retry(times):\n",
        "    def decorator(func):\n",
        "        def wrapper(a, b):\n",
        "            for attempt in range(times):\n",
        "                print(f\"Attempt {attempt + 1}\")\n",
        "                result = func(a, b)\n",
        "            return result\n",
        "        return wrapper\n",
        "    return decorator\n",
        "\n",
        "\n",
        "@retry(3) #parameterized decorator\n",
        "def add(x, y):\n",
        "    print(x + y)\n",
        "\n",
        "add(5, 7)\n"
      ],
      "metadata": {
        "colab": {
          "base_uri": "https://localhost:8080/"
        },
        "id": "ap9skDEte4q_",
        "outputId": "c1fa2dd2-5d14-406d-9a79-d22306826822"
      },
      "execution_count": 44,
      "outputs": [
        {
          "output_type": "stream",
          "name": "stdout",
          "text": [
            "Attempt 1\n",
            "12\n",
            "Attempt 2\n",
            "12\n",
            "Attempt 3\n",
            "12\n"
          ]
        }
      ]
    },
    {
      "cell_type": "markdown",
      "source": [
        "3. Write a simple decorator that prints the execution of a function.\n",
        "\n"
      ],
      "metadata": {
        "id": "dbJBwh16b_dB"
      }
    },
    {
      "cell_type": "code",
      "source": [
        "def track_execution(func):\n",
        "    def wrapper(a, b):\n",
        "        print(\"Execution started\")\n",
        "        result = func(a, b)\n",
        "        print(f\"Execution Finished, Result: {result}\")\n",
        "        return result\n",
        "    return wrapper\n",
        "\n",
        "@track_execution\n",
        "def add(x, y):\n",
        "    print(\"Inside a function\")\n",
        "    return x + y\n",
        "\n",
        "add(3, 5)\n"
      ],
      "metadata": {
        "colab": {
          "base_uri": "https://localhost:8080/"
        },
        "id": "-kUgKt2IcX_t",
        "outputId": "734f733c-ed99-405f-a213-4201e022bcdf"
      },
      "execution_count": 45,
      "outputs": [
        {
          "output_type": "stream",
          "name": "stdout",
          "text": [
            "Execution started\n",
            "Inside a function\n",
            "Execution Finished, Result: 8\n"
          ]
        },
        {
          "output_type": "execute_result",
          "data": {
            "text/plain": [
              "8"
            ]
          },
          "metadata": {},
          "execution_count": 45
        }
      ]
    },
    {
      "cell_type": "markdown",
      "source": [
        "4. Create a decorator call_counter that tracks how many times a function is called. Use it with a function say_hello that prints \"Hello!\".\n",
        ":"
      ],
      "metadata": {
        "id": "qFojnforb_fr"
      }
    },
    {
      "cell_type": "code",
      "source": [
        "def call_counter(func):\n",
        "    def wrapper(a, b):\n",
        "        wrapper.count += 1 #we use count variable to keep track of how many times a func is called\n",
        "        print(f\"{func.__name__} has been called {wrapper.count} times.\")\n",
        "        return func(a, b)\n",
        "    wrapper.count = 0\n",
        "    return wrapper\n",
        "\n",
        "@call_counter\n",
        "def multiply(x, y):\n",
        "    print(x * y)\n",
        "\n",
        "multiply(3, 4)\n",
        "multiply(2, 2)\n"
      ],
      "metadata": {
        "colab": {
          "base_uri": "https://localhost:8080/"
        },
        "id": "iHbZ0WjUyFcw",
        "outputId": "24b4a3bc-0dee-46c9-f9f8-6bcb968b0ffa"
      },
      "execution_count": 48,
      "outputs": [
        {
          "output_type": "stream",
          "name": "stdout",
          "text": [
            "multiply has been called 1 times.\n",
            "12\n",
            "multiply has been called 2 times.\n",
            "4\n"
          ]
        }
      ]
    },
    {
      "cell_type": "markdown",
      "source": [
        "5. Write a decorator double_result that doubles the result of the decorated function. Use it with a function add that adds two numbers.\n"
      ],
      "metadata": {
        "id": "mR1GJlqmb_jH"
      }
    },
    {
      "cell_type": "code",
      "source": [
        "def double_it(func):\n",
        "    def wrapper(a, b):\n",
        "        return func(a, b) * 2\n",
        "    return wrapper\n",
        "\n",
        "@double_it\n",
        "def add(x, y):\n",
        "    return x + y\n",
        "\n",
        "print(add(5, 3))\n"
      ],
      "metadata": {
        "colab": {
          "base_uri": "https://localhost:8080/"
        },
        "id": "e7sYj3b7y39i",
        "outputId": "3d8a367e-a213-47d8-87dc-da8d035e850c"
      },
      "execution_count": 18,
      "outputs": [
        {
          "output_type": "stream",
          "name": "stdout",
          "text": [
            "16\n"
          ]
        }
      ]
    },
    {
      "cell_type": "markdown",
      "source": [
        "6. What happens when multiple decorators are applied to a single function?\n"
      ],
      "metadata": {
        "id": "RXKJ-WxDb_xR"
      }
    },
    {
      "cell_type": "code",
      "source": [
        "#When multiple decorators are applied to a function, they are executed from the innermost to the outermost. Each decorator wraps the result of the previous one.\n",
        "\n",
        "def decor1(func):\n",
        "        def wrap():\n",
        "               print(\"Deco-outer\")\n",
        "               func()\n",
        "               print(\"Deco-outer\")\n",
        "        return wrap\n",
        "def decor2(func):\n",
        "        def wrap():\n",
        "               print(\"Deco-inner\")\n",
        "               func()\n",
        "               print(\"Deco-inner\")\n",
        "        return wrap\n",
        "\n",
        "@decor1 #runs after (outer)\n",
        "@decor2 #runs first (inner)\n",
        "def gift():\n",
        "         print(\"Hello from gift func\")\n",
        "\n",
        "\n",
        "gift()"
      ],
      "metadata": {
        "colab": {
          "base_uri": "https://localhost:8080/"
        },
        "id": "D8Z_bGm7z5iP",
        "outputId": "465c9e82-87c9-49d8-cc81-2509d1c1e37d"
      },
      "execution_count": 49,
      "outputs": [
        {
          "output_type": "stream",
          "name": "stdout",
          "text": [
            "Deco-outer\n",
            "Deco-inner\n",
            "Hello from gift func\n",
            "Deco-inner\n",
            "Deco-outer\n"
          ]
        }
      ]
    },
    {
      "cell_type": "markdown",
      "source": [
        "7.  What are some common use cases for decorators?\n",
        "\n",
        "\n",
        "* Logging and Debugging: Decorators can be used to add logging functionality to functions, allowing you to track the input and output of a function without modifying its source code.\n",
        "* Authentication and Authorization: Decorators can be used to implement authentication and authorization mechanisms in web applications, ensuring that only authorized users can access certain resources or perform certain actions.\n",
        "\n",
        "* Performance Monitoring: Measure execution time.\n",
        "\n",
        "* Retry Mechanism: Automatically retry a function on failure.\n",
        "\n",
        "* Result Modification: Modify the result of a function.\n",
        "\n",
        "\n",
        "\n",
        "\n"
      ],
      "metadata": {
        "id": "xOyBDIk0b_z8"
      }
    }
  ]
}
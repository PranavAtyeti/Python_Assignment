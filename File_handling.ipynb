{
  "nbformat": 4,
  "nbformat_minor": 0,
  "metadata": {
    "colab": {
      "provenance": [],
      "authorship_tag": "ABX9TyPS1R8/4CB6zVmluEKi9nPM",
      "include_colab_link": true
    },
    "kernelspec": {
      "name": "python3",
      "display_name": "Python 3"
    },
    "language_info": {
      "name": "python"
    }
  },
  "cells": [
    {
      "cell_type": "markdown",
      "metadata": {
        "id": "view-in-github",
        "colab_type": "text"
      },
      "source": [
        "<a href=\"https://colab.research.google.com/github/PranavAtyeti/Python_Assignment/blob/Python_Tasks/File_handling.ipynb\" target=\"_parent\"><img src=\"https://colab.research.google.com/assets/colab-badge.svg\" alt=\"Open In Colab\"/></a>"
      ]
    },
    {
      "cell_type": "code",
      "execution_count": 10,
      "metadata": {
        "colab": {
          "base_uri": "https://localhost:8080/"
        },
        "id": "yOWuneu4t4Ri",
        "outputId": "8f62c512-6a0a-4db4-afd8-9835ac1583b6"
      },
      "outputs": [
        {
          "output_type": "stream",
          "name": "stdout",
          "text": [
            "JSON Data: {'employees': [{'name': 'Alice', 'age': 30, 'department': 'HR'}, {'name': 'Bob', 'age': 25, 'department': 'Engineering'}]}\n",
            "Updated JSON Data: {'employees': [{'name': 'Alice', 'age': 30, 'department': 'HR'}, {'name': 'Bob', 'age': 25, 'department': 'Engineering'}, {'name': 'Vikas', 'age': 27, 'department': 'Marketing'}]}\n"
          ]
        }
      ],
      "source": [
        "import json\n",
        "import pandas as pd\n",
        "\n",
        "json_file = 'sample_data.json'\n",
        "\n",
        "sample_json_data = {\n",
        "    \"employees\": [\n",
        "        {\"name\": \"Alice\", \"age\": 30, \"department\": \"HR\"},\n",
        "        {\"name\": \"Bob\", \"age\": 25, \"department\": \"Engineering\"}\n",
        "    ]\n",
        "}\n",
        "\n",
        "with open(json_file, 'w') as file:               #create file\n",
        "    json.dump(sample_json_data, file, indent=4)\n",
        "\n",
        "with open(json_file, 'r') as file:    #read file\n",
        "    data = json.load(file)\n",
        "    print(\"JSON Data:\", data)\n",
        "\n",
        "new_employee = {\"name\": \"Vikas\", \"age\": 27, \"department\": \"Marketing\"}\n",
        "data[\"employees\"].append(new_employee)\n",
        "\n",
        "\n",
        "\n",
        "with open(json_file, 'w') as file:     #update file\n",
        "    json.dump(data, file, indent=4)\n",
        "\n",
        "print(\"Updated JSON Data:\", data)\n",
        "\n"
      ]
    },
    {
      "cell_type": "code",
      "source": [
        "csv_file = 'sample_data.csv'\n",
        "\n",
        "sample_csv_data = pd.DataFrame([\n",
        "    {'Name': 'Alice', 'Employee_ID': 1, 'Salary': 50000, 'Department': 'HR'},\n",
        "    {'Name': 'Bob', 'Employee_ID': 2, 'Salary': 70000, 'Department': 'Engineering'}\n",
        "])\n",
        "\n",
        "sample_csv_data.to_csv(csv_file, index=False) #create file\n",
        "\n",
        "df = pd.read_csv(csv_file)  #read file\n",
        "print(\"CSV Data:\")\n",
        "print(df)\n",
        "\n",
        "new_data = pd.DataFrame([\n",
        "    {'Name': 'Ruddhi', 'Employee_ID': 6, 'Salary': 79000, 'Department': 'Devops'},\n",
        "    {'Name': 'Shruti', 'Employee_ID': 7, 'Salary': 75000, 'Department': 'Devops'}\n",
        "])\n",
        "\n",
        "df = pd.concat([df, new_data], ignore_index=True)    #update file\n",
        "\n",
        "df.to_csv(csv_file, index=False)\n",
        "\n",
        "print(\"Updated CSV Data:\")\n",
        "print(df)\n"
      ],
      "metadata": {
        "colab": {
          "base_uri": "https://localhost:8080/"
        },
        "id": "R8cPxMJIuhn0",
        "outputId": "10d9b425-013d-4495-a99b-b198cd624a54"
      },
      "execution_count": 9,
      "outputs": [
        {
          "output_type": "stream",
          "name": "stdout",
          "text": [
            "CSV Data:\n",
            "    Name  Employee_ID  Salary   Department\n",
            "0  Alice            1   50000           HR\n",
            "1    Bob            2   70000  Engineering\n",
            "Updated CSV Data:\n",
            "     Name  Employee_ID  Salary   Department\n",
            "0   Alice            1   50000           HR\n",
            "1     Bob            2   70000  Engineering\n",
            "2  Ruddhi            6   79000       Devops\n",
            "3  Shruti            7   75000       Devops\n"
          ]
        }
      ]
    },
    {
      "cell_type": "code",
      "source": [],
      "metadata": {
        "id": "ljIoTrc0vCpv"
      },
      "execution_count": null,
      "outputs": []
    }
  ]
}